{
  "nbformat": 4,
  "nbformat_minor": 0,
  "metadata": {
    "colab": {
      "provenance": [],
      "authorship_tag": "ABX9TyMNWx2O/0aC0ut10qQ/vcB/",
      "include_colab_link": true
    },
    "kernelspec": {
      "name": "python3",
      "display_name": "Python 3"
    },
    "language_info": {
      "name": "python"
    }
  },
  "cells": [
    {
      "cell_type": "markdown",
      "metadata": {
        "id": "view-in-github",
        "colab_type": "text"
      },
      "source": [
        "<a href=\"https://colab.research.google.com/github/abaninarendra/Algorithms/blob/master/Day1_Numpy.ipynb\" target=\"_parent\"><img src=\"https://colab.research.google.com/assets/colab-badge.svg\" alt=\"Open In Colab\"/></a>"
      ]
    },
    {
      "cell_type": "markdown",
      "source": [
        "Reference: Python for Data Analysis _ WesMcKinney\n",
        "## Chapter 2 - Numpy"
      ],
      "metadata": {
        "id": "u6WipqgTtirv"
      }
    },
    {
      "cell_type": "markdown",
      "source": [
        "**Simple random data**: generates array of random numbers from uniform or normal distributions or random integers within a specified range. <br>\n",
        " arange(): a range of evenly spaced numbers — similar to Python’s range(), but returns a NumPy array.<br>\n",
        "\t\trand() <br>\n",
        "\t\trandn() <br>\n",
        "\t\trandint() <br>\n",
        "\t\trandom_sample()\n",
        "    <br>\n",
        "\n",
        "**Permutations**: randomly reorder elements of an array or return a random permutation of a range. <br>\n",
        "\t- shuffle() <br>\n",
        "\t- permutation() <br>\n",
        "**Distributions** - sample from wide variety of probability distributions\n",
        "\t- `normal()`: Normal (Gaussian) distribution<br>\n",
        "    - `uniform()`: Uniform distribution<br>\n",
        "    - `poisson()`: Poisson distribution<br>\n",
        "    - `binomial()`: Binomial distribution<br>\n",
        "    - `exponential()`: Exponential distribution<br>\n",
        " **Random generator**:\n",
        "\t `default_rng()` function provides a modern and recommended way to create a `Generator` object, which encapsulates the state of the random number generation process. This allows for better control over reproducibility and parallelism."
      ],
      "metadata": {
        "id": "yjZ7iUa8wrdH"
      }
    },
    {
      "cell_type": "markdown",
      "source": [
        "# .arange\n",
        "syntax:\n",
        ".arange(start,stop,step, dtype=)\n",
        "\n",
        "# NumPy dtypes: Example & Memory Size\n",
        "\n",
        "| Dtype          | Example Output                                | Memory Size (of one element explained next) |\n",
        "|----------------|-----------------------------------------------|------------------|\n",
        "| np.int8        | [0 1 2 3 4]                                  | 1                |\n",
        "| np.int16       | [0 1 2 3 4]                                  | 2                |\n",
        "| np.int32       | [0 1 2 3 4]                                  | 4                |\n",
        "| np.int64       | [0 1 2 3 4]                                  | 8                |\n",
        "| float          | [0. 0.5 1. 1.5 2. 2.5 3. 3.5 4. 4.5]        | 8                |\n",
        "| np.float16     | [0. 0.5 1. 1.5 2. 2.5 3. 3.5 4. 4.5]        | 2                |\n",
        "| np.float32     | [0. 0.5 1. 1.5 2. 2.5 3. 3.5 4. 4.5]        | 4                |\n",
        "| np.float64     | [0. 0.5 1. 1.5 2. 2.5 3. 3.5 4. 4.5]        | 8                |\n",
        "| np.complex64   | [0.+0.j 1.+0.j 2.+0.j 3.+0.j 4.+0.j]        | 8                |\n",
        "| np.complex128  | [0.+0.j 1.+0.j 2.+0.j 3.+0.j 4.+0.j]        | 16               |\n"
      ],
      "metadata": {
        "id": "5zOWyEiEylPf"
      }
    },
    {
      "cell_type": "code",
      "source": [
        "import numpy as np\n",
        "#np.arange(start,stop,step,dtype=None)\n",
        "a=np.arange(0,10,2,dtype=None) # Changed dtype to str\n",
        "print(a)\n",
        "\n",
        "a_float=np.arange(0,5,dtype=float)\n",
        "print(a_float)\n",
        "\n",
        "#check memory size\n",
        "\n",
        "arr1_int8=np.array([1],dtype=np.int8)\n",
        "arr2_int8=np.array([1,2,3,4],dtype=np.int8)\n",
        "\n",
        "print(\"int8 arr1 itemsize:\",arr1_int8.itemsize,\"nbytes:\",arr1_int8.nbytes)\n",
        "print(\"int8 arr2 itemsize:\",arr2_int8.itemsize,\"nbytes:\",arr2_int8.nbytes)\n",
        "\n",
        "arr1_int16=np.array([1],dtype=np.int16)\n",
        "arr2_int16=np.array([1,2,3,4],dtype=np.int16)\n",
        "\n",
        "print(\"int16 arr1 itemsize:\",arr1_int16.itemsize,\"nbytes:\",arr1_int16.nbytes)\n",
        "print(\"int16 arr2 itemsize:\",arr2_int16.itemsize,\"nbytes:\",arr2_int16.nbytes)\n",
        "\n",
        "arr1_int32=np.array([1],dtype=np.int32)\n",
        "arr2_int32=np.array([1,2,3,4],dtype=np.int32)\n",
        "\n",
        "print(\"int32 arr1 itemsize:\",arr1_int32.itemsize,\"nbytes:\",arr1_int32.nbytes)\n",
        "print(\"int32 arr2 itemsize:\",arr2_int32.itemsize,\"nbytes:\",arr2_int32.nbytes)\n",
        "\n"
      ],
      "metadata": {
        "colab": {
          "base_uri": "https://localhost:8080/"
        },
        "id": "KeY9itmFxfxY",
        "outputId": "2067c1c0-6104-45a5-bc81-2a96ee47882b"
      },
      "execution_count": 15,
      "outputs": [
        {
          "output_type": "stream",
          "name": "stdout",
          "text": [
            "[0 2 4 6 8]\n",
            "[0. 1. 2. 3. 4.]\n",
            "int8 arr1 itemsize: 1 nbytes: 1\n",
            "int8 arr2 itemsize: 1 nbytes: 4\n",
            "int16 arr1 itemsize: 2 nbytes: 2\n",
            "int16 arr2 itemsize: 2 nbytes: 8\n",
            "int32 arr1 itemsize: 4 nbytes: 4\n",
            "int32 arr2 itemsize: 4 nbytes: 16\n"
          ]
        }
      ]
    },
    {
      "cell_type": "code",
      "source": [
        "import numpy as np\n",
        "\n",
        "data={i:np.random.randn() for i in range(7)}\n",
        "print(data)"
      ],
      "metadata": {
        "colab": {
          "base_uri": "https://localhost:8080/"
        },
        "id": "6lZsfv5qtxan",
        "outputId": "a912b382-62cf-4c4c-a875-3f11ca5fc143"
      },
      "execution_count": 4,
      "outputs": [
        {
          "output_type": "stream",
          "name": "stdout",
          "text": [
            "{0: -0.4125554454978472, 1: -0.043460386429820835, 2: -1.8068641505561727, 3: -0.1998527277488442, 4: 2.8298715589835615, 5: 0.040237531281267544, 6: -0.4336852140091657}\n"
          ]
        }
      ]
    }
  ]
}