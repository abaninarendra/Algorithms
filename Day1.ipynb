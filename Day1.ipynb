{
  "nbformat": 4,
  "nbformat_minor": 0,
  "metadata": {
    "colab": {
      "provenance": [],
      "authorship_tag": "ABX9TyPI1EOeNk1dg/jZjOzuQLcB",
      "include_colab_link": true
    },
    "kernelspec": {
      "name": "python3",
      "display_name": "Python 3"
    },
    "language_info": {
      "name": "python"
    }
  },
  "cells": [
    {
      "cell_type": "markdown",
      "metadata": {
        "id": "view-in-github",
        "colab_type": "text"
      },
      "source": [
        "<a href=\"https://colab.research.google.com/github/abaninarendra/Algorithms/blob/master/Day1.ipynb\" target=\"_parent\"><img src=\"https://colab.research.google.com/assets/colab-badge.svg\" alt=\"Open In Colab\"/></a>"
      ]
    },
    {
      "cell_type": "markdown",
      "source": [
        "Reference: Python for Data Analysis _ WesMcKinney\n",
        "## Chapter 2 - Numpy"
      ],
      "metadata": {
        "id": "u6WipqgTtirv"
      }
    },
    {
      "cell_type": "markdown",
      "source": [
        "**Simple random data**: generates array of random numbers from uniform or normal distributions or random integers within a specified range. <br>\n",
        " | Function         | Description                                                                 |\n",
        "|-----------------|-----------------------------------------------------------------------------|\n",
        "| `arange()`       | A range of evenly spaced numbers — similar to Python’s `range()`, but returns a NumPy array. |\n",
        "| `rand()`         | Generates random floats between 0 and 1 (uniform distribution).            |\n",
        "| `randn()`        | Generates random numbers from standard normal distribution (mean=0, std=1). |\n",
        "| `randint()`      | Generates random integers from a specified range.                          |\n",
        "| `random_sample()`| Generates random floats in [0.0, 1.0).                                     |\n",
        "\n",
        "**Permutations**: randomly reorder elements of an array or return a random permutation of a range. <br>\n",
        "\t- shuffle() <br>\n",
        "\t- permutation() <br>\n",
        "**Distributions** - sample from wide variety of probability distributions\n",
        "\t- `normal()`: Normal (Gaussian) distribution<br>\n",
        "    - `uniform()`: Uniform distribution<br>\n",
        "    - `poisson()`: Poisson distribution<br>\n",
        "    - `binomial()`: Binomial distribution<br>\n",
        "    - `exponential()`: Exponential distribution<br>\n",
        " **Random generator**:\n",
        "\t `default_rng()` function provides a modern and recommended way to create a `Generator` object, which encapsulates the state of the random number generation process. This allows for better control over reproducibility and parallelism."
      ],
      "metadata": {
        "id": "yjZ7iUa8wrdH"
      }
    },
    {
      "cell_type": "markdown",
      "source": [
        "# .arange\n",
        "syntax:\n",
        ".arange(start,stop,step, dtype=)\n",
        "\n",
        "# NumPy dtypes: Example & Memory Size\n",
        "\n",
        "| Dtype          | Example Output                                | Memory Size (of one element explained next) |\n",
        "|----------------|-----------------------------------------------|------------------|\n",
        "| np.int8        | [0 1 2 3 4]                                  | 1                |\n",
        "| np.int16       | [0 1 2 3 4]                                  | 2                |\n",
        "| np.int32       | [0 1 2 3 4]                                  | 4                |\n",
        "| np.int64       | [0 1 2 3 4]                                  | 8                |\n",
        "| float          | [0. 0.5 1. 1.5 2. 2.5 3. 3.5 4. 4.5]        | 8                |\n",
        "| np.float16     | [0. 0.5 1. 1.5 2. 2.5 3. 3.5 4. 4.5]        | 2                |\n",
        "| np.float32     | [0. 0.5 1. 1.5 2. 2.5 3. 3.5 4. 4.5]        | 4                |\n",
        "| np.float64     | [0. 0.5 1. 1.5 2. 2.5 3. 3.5 4. 4.5]        | 8                |\n",
        "| np.complex64   | [0.+0.j 1.+0.j 2.+0.j 3.+0.j 4.+0.j]        | 8                |\n",
        "| np.complex128  | [0.+0.j 1.+0.j 2.+0.j 3.+0.j 4.+0.j]        | 16               |\n"
      ],
      "metadata": {
        "id": "5zOWyEiEylPf"
      }
    },
    {
      "cell_type": "code",
      "source": [
        "import numpy as np\n",
        "#np.arange(start,stop,step,dtype=None)\n",
        "a=np.arange(0,10,2,dtype=None) # Changed dtype to str\n",
        "print(a)\n",
        "\n",
        "a_float=np.arange(0,5,dtype=float)\n",
        "print(a_float)\n",
        "\n",
        "#check memory size\n",
        "\n",
        "arr1_int8=np.array([1],dtype=np.int8)\n",
        "arr2_int8=np.array([1,2,3,4],dtype=np.int8)\n",
        "\n",
        "print(\"int8 arr1 itemsize:\",arr1_int8.itemsize,\"nbytes:\",arr1_int8.nbytes)\n",
        "print(\"int8 arr2 itemsize:\",arr2_int8.itemsize,\"nbytes:\",arr2_int8.nbytes)\n",
        "\n",
        "arr1_int16=np.array([1],dtype=np.int16)\n",
        "arr2_int16=np.array([1,2,3,4],dtype=np.int16)\n",
        "\n",
        "print(\"int16 arr1 itemsize:\",arr1_int16.itemsize,\"nbytes:\",arr1_int16.nbytes)\n",
        "print(\"int16 arr2 itemsize:\",arr2_int16.itemsize,\"nbytes:\",arr2_int16.nbytes)\n",
        "\n",
        "arr1_int32=np.array([1],dtype=np.int32)\n",
        "arr2_int32=np.array([1,2,3,4],dtype=np.int32)\n",
        "\n",
        "print(\"int32 arr1 itemsize:\",arr1_int32.itemsize,\"nbytes:\",arr1_int32.nbytes)\n",
        "print(\"int32 arr2 itemsize:\",arr2_int32.itemsize,\"nbytes:\",arr2_int32.nbytes)\n",
        "\n"
      ],
      "metadata": {
        "colab": {
          "base_uri": "https://localhost:8080/"
        },
        "id": "KeY9itmFxfxY",
        "outputId": "2067c1c0-6104-45a5-bc81-2a96ee47882b"
      },
      "execution_count": 15,
      "outputs": [
        {
          "output_type": "stream",
          "name": "stdout",
          "text": [
            "[0 2 4 6 8]\n",
            "[0. 1. 2. 3. 4.]\n",
            "int8 arr1 itemsize: 1 nbytes: 1\n",
            "int8 arr2 itemsize: 1 nbytes: 4\n",
            "int16 arr1 itemsize: 2 nbytes: 2\n",
            "int16 arr2 itemsize: 2 nbytes: 8\n",
            "int32 arr1 itemsize: 4 nbytes: 4\n",
            "int32 arr2 itemsize: 4 nbytes: 16\n"
          ]
        }
      ]
    },
    {
      "cell_type": "code",
      "source": [
        "import numpy as np\n",
        "\n",
        "data={i:np.random.randn() for i in range(7)}\n",
        "print(data)"
      ],
      "metadata": {
        "colab": {
          "base_uri": "https://localhost:8080/"
        },
        "id": "6lZsfv5qtxan",
        "outputId": "a912b382-62cf-4c4c-a875-3f11ca5fc143"
      },
      "execution_count": 4,
      "outputs": [
        {
          "output_type": "stream",
          "name": "stdout",
          "text": [
            "{0: -0.4125554454978472, 1: -0.043460386429820835, 2: -1.8068641505561727, 3: -0.1998527277488442, 4: 2.8298715589835615, 5: 0.040237531281267544, 6: -0.4336852140091657}\n"
          ]
        }
      ]
    },
    {
      "cell_type": "markdown",
      "source": [
        "#np.random.rand()\n",
        "Generates random floats between 0 and 1 (uniform distribution)."
      ],
      "metadata": {
        "id": "UCny21F32qTZ"
      }
    },
    {
      "cell_type": "code",
      "source": [
        "import numpy as np\n",
        "a=np.random.rand(5)\n",
        "print(a)\n",
        "\n",
        "two_d_array=np.random.rand(5,2)\n",
        "print(two_d_array\n",
        "    )"
      ],
      "metadata": {
        "colab": {
          "base_uri": "https://localhost:8080/"
        },
        "id": "RPnIw1pq2tG8",
        "outputId": "e6012129-2702-463c-ba58-640bd8ba5d23"
      },
      "execution_count": 21,
      "outputs": [
        {
          "output_type": "stream",
          "name": "stdout",
          "text": [
            "[0.90157075 0.93997027 0.570648   0.42534075 0.56862699]\n",
            "[[0.4526859  0.6160608 ]\n",
            " [0.2802643  0.2040145 ]\n",
            " [0.98297136 0.68331039]\n",
            " [0.1696442  0.38553261]\n",
            " [0.57776786 0.43466572]]\n"
          ]
        }
      ]
    },
    {
      "cell_type": "markdown",
      "source": [
        "#np.random.randn()\n",
        "Generates random numbers from standard normal distribution (mean=0, std=1).\n"
      ],
      "metadata": {
        "id": "bVIVg88q23QT"
      }
    },
    {
      "cell_type": "code",
      "source": [
        "import numpy as np\n",
        "a=np.random.randn(3,3)\n",
        "print(a)\n",
        "two_d_array = np.random.randn(2, 3)\n",
        "\n",
        "print(two_d_array)"
      ],
      "metadata": {
        "colab": {
          "base_uri": "https://localhost:8080/"
        },
        "id": "uxCXJuUd289Y",
        "outputId": "f5f9b1eb-93e6-4249-ebe8-7549c068af9f"
      },
      "execution_count": 19,
      "outputs": [
        {
          "output_type": "stream",
          "name": "stdout",
          "text": [
            "[[ 0.47358076 -0.34168577 -2.63637049]\n",
            " [ 0.4514057   0.72069747 -0.94040709]\n",
            " [ 1.45642683 -1.15674426 -0.89509399]]\n"
          ]
        }
      ]
    },
    {
      "cell_type": "code",
      "metadata": {
        "colab": {
          "base_uri": "https://localhost:8080/"
        },
        "id": "8d86fb2e",
        "outputId": "b725d4b6-a375-47b8-8440-4ff6cb9300bb"
      },
      "source": [
        "import numpy as np\n",
        "\n",
        "# Generate a 2x3 array of random numbers from the standard normal distribution\n",
        "two_d_array = np.random.randn(2, 3)\n",
        "\n",
        "print(two_d_array)"
      ],
      "execution_count": 23,
      "outputs": [
        {
          "output_type": "stream",
          "name": "stdout",
          "text": [
            "[[-1.32446523  0.62781124  0.96181182]\n",
            " [ 2.37765986  1.22063857 -1.6465844 ]]\n"
          ]
        }
      ]
    },
    {
      "cell_type": "markdown",
      "source": [
        "#numpy.random.randint()\n",
        "Generates random integers from a specified range.\n"
      ],
      "metadata": {
        "id": "ZAbXYJqD3nq9"
      }
    },
    {
      "cell_type": "code",
      "source": [
        "import numpy as np\n",
        "# Generate a 2D array of random integers between 0 (inclusive) and 10 (exclusive)\n",
        "print(np.random.randint(0, 10, size=(4, 3,20))) # 4 arrays of 3 rows x 20 columns"
      ],
      "metadata": {
        "colab": {
          "base_uri": "https://localhost:8080/"
        },
        "id": "WqGOH6yD3u6V",
        "outputId": "1e0b1271-106c-4111-e6d6-e86c1d26a3b5"
      },
      "execution_count": 34,
      "outputs": [
        {
          "output_type": "stream",
          "name": "stdout",
          "text": [
            "[[[7 5 6 4 0 5 9 1 3 0 3 2 2 6 3 3 3 5 2 4]\n",
            "  [4 9 1 1 9 9 2 0 0 6 8 2 9 8 1 4 2 1 5 3]\n",
            "  [4 4 0 8 6 7 5 8 2 6 3 7 9 8 3 4 7 0 4 2]]\n",
            "\n",
            " [[3 7 1 5 9 9 3 1 1 6 1 9 8 4 9 2 8 7 9 1]\n",
            "  [7 2 1 4 3 6 0 7 7 1 9 5 5 9 7 3 7 7 7 9]\n",
            "  [7 2 8 6 9 1 1 3 4 3 1 5 0 1 5 3 7 0 5 2]]\n",
            "\n",
            " [[7 3 0 0 4 7 7 7 7 6 9 9 6 0 3 6 1 4 9 1]\n",
            "  [2 8 8 4 0 4 0 2 1 5 4 9 0 2 6 0 8 3 0 9]\n",
            "  [2 2 5 4 6 0 1 0 4 1 8 7 2 8 4 8 1 2 7 6]]\n",
            "\n",
            " [[0 4 2 2 5 4 8 0 4 3 9 5 4 4 2 2 4 0 6 7]\n",
            "  [5 1 4 6 5 4 2 9 6 7 7 1 3 7 6 8 6 2 6 1]\n",
            "  [2 8 0 7 1 8 4 0 0 8 2 5 4 8 8 0 8 6 6 3]]]\n"
          ]
        }
      ]
    },
    {
      "cell_type": "markdown",
      "source": [
        "#numpy.random.random_sample()\n",
        "Takes only one argument <br>\n",
        "Generates random floats in the range [0.0, 1.0)."
      ],
      "metadata": {
        "id": "JaCul8xF4hfu"
      }
    },
    {
      "cell_type": "code",
      "source": [
        "import numpy as np\n",
        "# Generate an array of 10 random floats between 0.0 and 1.0\n",
        "print(np.random.random_sample(10)) # Corrected by providing a size argument"
      ],
      "metadata": {
        "colab": {
          "base_uri": "https://localhost:8080/"
        },
        "id": "3p0QUqFw4mRI",
        "outputId": "0e4af5ec-fb20-4150-feac-fbe29dc5df4a"
      },
      "execution_count": 36,
      "outputs": [
        {
          "output_type": "stream",
          "name": "stdout",
          "text": [
            "[0.61167727 0.56784659 0.88061464 0.19111035 0.7544131  0.71669636\n",
            " 0.09066823 0.58688631 0.88356515 0.60343574]\n"
          ]
        }
      ]
    }
  ]
}